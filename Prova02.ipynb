{
 "cells": [
  {
   "cell_type": "code",
   "execution_count": 13,
   "id": "32b9b666-dae5-4af7-a523-beab0d62be15",
   "metadata": {},
   "outputs": [
    {
     "name": "stdout",
     "output_type": "stream",
     "text": [
      "Lista ordenada: [10, 13, 14, 29, 37]\n",
      "Maior elemento: 37\n"
     ]
    }
   ],
   "source": [
    "def selection_sort(arr):\n",
    "    for i in range(len(arr)):\n",
    "        min_idx = i\n",
    "        for j in range(i + 1, len(arr)):\n",
    "            if arr[j] < arr[min_idx]:\n",
    "                min_idx = j\n",
    "        arr[i], arr[min_idx] = arr[min_idx], arr[i]\n",
    "    return arr\n",
    "\n",
    "def find_max(lista_ordenada):\n",
    "    if not lista_ordenada:\n",
    "        return None\n",
    "    return lista_ordenada[-1]  \n",
    "\n",
    "lista = [29, 10, 14, 37, 13]\n",
    "sorted_list = selection_sort(lista)\n",
    "print(\"Lista ordenada:\", sorted_list)\n",
    "print(\"Maior elemento:\", find_max(sorted_list))\n"
   ]
  },
  {
   "cell_type": "code",
   "execution_count": null,
   "id": "c4444323-cc01-45cc-863b-3b442e8f77f4",
   "metadata": {},
   "outputs": [],
   "source": []
  }
 ],
 "metadata": {
  "kernelspec": {
   "display_name": "Python [conda env:base] *",
   "language": "python",
   "name": "conda-base-py"
  },
  "language_info": {
   "codemirror_mode": {
    "name": "ipython",
    "version": 3
   },
   "file_extension": ".py",
   "mimetype": "text/x-python",
   "name": "python",
   "nbconvert_exporter": "python",
   "pygments_lexer": "ipython3",
   "version": "3.12.7"
  }
 },
 "nbformat": 4,
 "nbformat_minor": 5
}
